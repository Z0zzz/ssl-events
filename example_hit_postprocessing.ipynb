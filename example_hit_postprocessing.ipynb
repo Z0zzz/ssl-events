{
 "cells": [
  {
   "cell_type": "code",
   "execution_count": 1,
   "metadata": {},
   "outputs": [
    {
     "name": "stdout",
     "output_type": "stream",
     "text": [
      "fcc/small_gun_sample/out_reco_edm4hep_REC.edm4hep.root\n"
     ]
    },
    {
     "name": "stderr",
     "output_type": "stream",
     "text": [
      "  2%|▏         | 2/100 [00:00<00:12,  8.01it/s]"
     ]
    },
    {
     "name": "stdout",
     "output_type": "stream",
     "text": [
      "gps_sorted_energy:  [8, 2, 5, 6, 9, 3, 4, 10, 7, 0, 1]\n",
      "PDG:  [-321, 11, 11, 22, 11, -13, 13, 11, 2212, 22, -321]\n",
      "CHARGE:  [-1, -1, -1, 0, -1, 1, -1, -1, 1, 0, -1]\n",
      "gps_sorted_energy:  [4, 11, 1, 6, 10, 3, 9, 13, 12, 2, 0, 8, 5, 7]\n",
      "PDG:  [22, -13, 11, -321, -2112, 22, 13, 22, 211, 2112, 22, 130, -2112, -2112]\n",
      "CHARGE:  [0, 1, -1, -1, 0, 0, -1, 0, 1, 0, 0, 0, 0, 0]\n"
     ]
    },
    {
     "name": "stderr",
     "output_type": "stream",
     "text": [
      "  4%|▍         | 4/100 [00:00<00:10,  9.47it/s]"
     ]
    },
    {
     "name": "stdout",
     "output_type": "stream",
     "text": [
      "gps_sorted_energy:  [0, 7, 6, 2, 1, 8, 5, 4, 9, 3]\n",
      "PDG:  [13, 11, -13, 13, 2112, 11, -2212, -211, 22, 22]\n",
      "CHARGE:  [-1, -1, 1, -1, 0, -1, -1, -1, 0, 0]\n",
      "gps_sorted_energy:  [6, 8, 0, 9, 3, 1, 5, 7, 10, 4, 2]\n",
      "PDG:  [-11, 22, 321, 211, 130, -11, 11, -2112, -13, 211, -13]\n",
      "CHARGE:  [1, 0, 1, 1, 0, 1, -1, 0, 1, 1, 1]\n"
     ]
    },
    {
     "name": "stderr",
     "output_type": "stream",
     "text": [
      "  5%|▌         | 5/100 [00:00<00:10,  8.75it/s]"
     ]
    },
    {
     "name": "stdout",
     "output_type": "stream",
     "text": [
      "gps_sorted_energy:  [6, 4, 12, 2, 3, 8, 5, 13, 9, 14, 10, 11, 7, 1, 0]\n",
      "PDG:  [130, 22, 321, 22, 13, -11, 13, 2212, 22, -11, -2112, 321, -211, -11, -11]\n",
      "CHARGE:  [0, 0, 1, 0, -1, 1, -1, 1, 0, 1, 0, 1, -1, 1, 1]\n",
      "gps_sorted_energy:  [8, 0, 3, 5, 6, 1, 7, 4, 2]\n",
      "PDG:  [13, 22, -211, 22, 130, -11, 321, -321, 13]\n",
      "CHARGE:  [-1, 0, -1, 0, 0, 1, 1, -1, -1]\n"
     ]
    },
    {
     "name": "stderr",
     "output_type": "stream",
     "text": [
      "  8%|▊         | 8/100 [00:00<00:10,  8.51it/s]"
     ]
    },
    {
     "name": "stdout",
     "output_type": "stream",
     "text": [
      "gps_sorted_energy:  [10, 8, 5, 1, 4, 6, 2, 0, 9, 3, 7]\n",
      "PDG:  [211, -321, 22, -2112, -2112, 22, -11, 211, 130, -211, 211]\n",
      "CHARGE:  [1, -1, 0, 0, 0, 0, 1, 1, 0, -1, 1]\n",
      "gps_sorted_energy:  [1, 0, 5, 12, 9, 7, 4, 8, 10, 13, 3, 2, 6, 11]\n",
      "PDG:  [22, -2112, 22, -11, 11, 321, 22, 22, 2112, 22, -2212, 22, 211, -13]\n",
      "CHARGE:  [0, 0, 0, 1, -1, 1, 0, 0, 0, 0, -1, 0, 1, 1]\n"
     ]
    },
    {
     "name": "stderr",
     "output_type": "stream",
     "text": [
      "  9%|▉         | 9/100 [00:01<00:10,  8.54it/s]"
     ]
    },
    {
     "name": "stdout",
     "output_type": "stream",
     "text": [
      "gps_sorted_energy:  [12, 0, 10, 1, 6, 5, 3, 9, 11, 2, 4, 8, 13, 7]\n",
      "PDG:  [22, -11, 13, 211, 130, -11, 211, 11, 13, 13, -2112, -11, -321, 11]\n",
      "CHARGE:  [0, 1, -1, 1, 0, 1, 1, -1, -1, -1, 0, 1, -1, -1]\n",
      "gps_sorted_energy:  [9, 7, 2, 0, 6, 8, 10, 4, 3, 5, 1]\n",
      "PDG:  [22, -13, -11, 13, 2212, 22, 22, 11, 22, 13, 2112]\n",
      "CHARGE:  [0, 1, 1, -1, 1, 0, 0, -1, 0, -1, 0]\n"
     ]
    },
    {
     "name": "stderr",
     "output_type": "stream",
     "text": [
      " 11%|█         | 11/100 [00:01<00:10,  8.88it/s]"
     ]
    },
    {
     "name": "stdout",
     "output_type": "stream",
     "text": [
      "gps_sorted_energy:  [0, 5, 10, 11, 2, 8, 12, 13, 6, 3, 1, 7, 14, 9, 4]\n",
      "PDG:  [-13, 13, 22, 11, 22, 2112, 22, 321, -2212, 13, -2112, -11, -321, 2112, 22]\n",
      "CHARGE:  [1, -1, 0, -1, 0, 0, 0, 1, -1, -1, 0, 1, -1, 0, 0]\n",
      "gps_sorted_energy:  [7, 5, 3, 0, 10, 1, 8, 6, 4, 2, 9]\n",
      "PDG:  [22, 22, 321, 11, 22, 22, -11, -13, 22, -11, 13]\n",
      "CHARGE:  [0, 0, 1, -1, 0, 0, 1, 1, 0, 1, -1]\n",
      "gps_sorted_energy:  [0, 8, 7, 6, 2, 5, 4, 9, 3, 1]\n",
      "PDG:  [211, 11, -13, -2212, 2112, 11, 13, 13, 11, 2112]\n",
      "CHARGE:  [1, -1, 1, -1, 0, -1, -1, -1, -1, 0]\n"
     ]
    },
    {
     "name": "stderr",
     "output_type": "stream",
     "text": [
      " 15%|█▌        | 15/100 [00:01<00:08,  9.67it/s]"
     ]
    },
    {
     "name": "stdout",
     "output_type": "stream",
     "text": [
      "gps_sorted_energy:  [2, 4, 8, 5, 7, 1, 0, 6, 9, 3]\n",
      "PDG:  [2212, 11, 211, 13, 13, 22, -2212, -2212, 22, 211]\n",
      "CHARGE:  [1, -1, 1, -1, -1, 0, -1, -1, 0, 1]\n",
      "gps_sorted_energy:  [4, 6, 7, 8, 0, 10, 3, 1, 2, 5, 9]\n",
      "PDG:  [22, -11, 22, 2112, 130, 2112, 130, 11, 11, 11, 13]\n",
      "CHARGE:  [0, 1, 0, 0, 0, 0, 0, -1, -1, -1, -1]\n"
     ]
    },
    {
     "name": "stderr",
     "output_type": "stream",
     "text": [
      " 17%|█▋        | 17/100 [00:01<00:09,  9.02it/s]"
     ]
    },
    {
     "name": "stdout",
     "output_type": "stream",
     "text": [
      "gps_sorted_energy:  [5, 0, 9, 7, 8, 11, 4, 2, 3, 1, 10, 6]\n",
      "PDG:  [13, -321, 11, 130, -2112, -2112, 13, -13, -2212, 2112, -13, 2112]\n",
      "CHARGE:  [-1, -1, -1, 0, 0, 0, -1, 1, -1, 0, 1, 0]\n",
      "gps_sorted_energy:  [5, 11, 4, 2, 13, 8, 3, 9, 0, 10, 1, 7, 6, 12, 14]\n",
      "PDG:  [13, 22, -2112, 22, 321, 130, 130, 13, 11, -11, -321, -2212, 22, 130, 22]\n",
      "CHARGE:  [-1, 0, 0, 0, 1, 0, 0, -1, -1, 1, -1, -1, 0, 0, 0]\n"
     ]
    },
    {
     "name": "stderr",
     "output_type": "stream",
     "text": [
      " 19%|█▉        | 19/100 [00:02<00:09,  8.82it/s]"
     ]
    },
    {
     "name": "stdout",
     "output_type": "stream",
     "text": [
      "gps_sorted_energy:  [10, 0, 7, 9, 1, 11, 5, 3, 8, 12, 6, 4, 2]\n",
      "PDG:  [-11, 22, 13, 2212, -2112, 13, 2112, -2212, 22, -13, 13, 13, 2112]\n",
      "CHARGE:  [1, 0, -1, 1, 0, -1, 0, -1, 0, 1, -1, -1, 0]\n",
      "gps_sorted_energy:  [12, 6, 7, 8, 9, 3, 1, 10, 4, 0, 5, 11, 2]\n",
      "PDG:  [22, -321, 13, -2212, 13, 211, 11, 2212, -13, 211, -13, -321, -2112]\n",
      "CHARGE:  [0, -1, -1, -1, -1, 1, -1, 1, 1, 1, 1, -1, 0]\n"
     ]
    },
    {
     "name": "stderr",
     "output_type": "stream",
     "text": [
      " 21%|██        | 21/100 [00:02<00:08,  9.30it/s]"
     ]
    },
    {
     "name": "stdout",
     "output_type": "stream",
     "text": [
      "gps_sorted_energy:  [1, 5, 4, 6, 0, 8, 2, 9, 7, 3, 10]\n",
      "PDG:  [22, 22, 22, -13, 13, -321, 130, 11, 2112, 2112, 11]\n",
      "CHARGE:  [0, 0, 0, 1, -1, -1, 0, -1, 0, 0, -1]\n",
      "gps_sorted_energy:  [7, 9, 12, 13, 1, 4, 3, 10, 0, 2, 5, 11, 8, 6]\n",
      "PDG:  [22, 11, -321, -211, 11, 321, -13, -2112, -11, 321, 11, 22, 11, 211]\n",
      "CHARGE:  [0, -1, -1, -1, -1, 1, 1, 0, 1, 1, -1, 0, -1, 1]\n"
     ]
    },
    {
     "name": "stderr",
     "output_type": "stream",
     "text": [
      " 23%|██▎       | 23/100 [00:02<00:08,  9.23it/s]"
     ]
    },
    {
     "name": "stdout",
     "output_type": "stream",
     "text": [
      "gps_sorted_energy:  [2, 10, 5, 9, 0, 3, 8, 6, 4, 7, 1, 11]\n",
      "PDG:  [22, 22, 13, 22, 22, -2212, 13, -11, 11, 22, -2112, 22]\n",
      "CHARGE:  [0, 0, -1, 0, 0, -1, -1, 1, -1, 0, 0, 0]\n",
      "gps_sorted_energy:  [0, 3, 5, 10, 8, 6, 4, 9, 1, 7, 11, 2]\n",
      "PDG:  [-321, 13, 130, 13, -2212, 130, -321, 2212, -2112, 13, 2112, 22]\n",
      "CHARGE:  [-1, -1, 0, -1, -1, 0, -1, 1, 0, -1, 0, 0]\n"
     ]
    },
    {
     "name": "stderr",
     "output_type": "stream",
     "text": [
      " 25%|██▌       | 25/100 [00:02<00:08,  9.36it/s]"
     ]
    },
    {
     "name": "stdout",
     "output_type": "stream",
     "text": [
      "gps_sorted_energy:  [5, 6, 7, 3, 0, 1, 9, 2, 4, 8]\n",
      "PDG:  [-211, -11, 130, -13, 2112, -2112, 2212, 13, -11, 13]\n",
      "CHARGE:  [-1, 1, 0, 1, 0, 0, 1, -1, 1, -1]\n",
      "gps_sorted_energy:  [1, 4, 11, 6, 12, 2, 0, 5, 7, 8, 10, 9, 3]\n",
      "PDG:  [130, -13, 321, -2112, -11, 22, -13, 22, -11, -211, 22, -11, -211]\n",
      "CHARGE:  [0, 1, 1, 0, 1, 0, 1, 0, 1, -1, 0, 1, -1]\n"
     ]
    },
    {
     "name": "stderr",
     "output_type": "stream",
     "text": [
      " 27%|██▋       | 27/100 [00:02<00:07,  9.42it/s]"
     ]
    },
    {
     "name": "stdout",
     "output_type": "stream",
     "text": [
      "gps_sorted_energy:  [6, 9, 7, 0, 2, 1, 4, 3, 8, 5]\n",
      "PDG:  [130, 22, -11, -2112, 211, 22, -2212, 130, 130, -13]\n",
      "CHARGE:  [0, 0, 1, 0, 1, 0, -1, 0, 0, 1]\n",
      "gps_sorted_energy:  [2, 10, 1, 9, 14, 3, 7, 12, 8, 5, 11, 0, 4, 6, 13]\n",
      "PDG:  [2212, -2112, -13, -13, -2112, 13, 2112, ..., -13, 22, 22, 2112, 130, 22, 2212]\n",
      "CHARGE:  [1, 0, 1, 1, 0, -1, 0, 0, 1, 0, 0, 0, 0, 0, 1]\n"
     ]
    },
    {
     "name": "stderr",
     "output_type": "stream",
     "text": [
      " 29%|██▉       | 29/100 [00:03<00:07,  9.38it/s]"
     ]
    },
    {
     "name": "stdout",
     "output_type": "stream",
     "text": [
      "gps_sorted_energy:  [2, 4, 5, 7, 0, 6, 9, 3, 10, 8, 1]\n",
      "PDG:  [-2112, 211, 22, 2112, 13, 2212, 13, 22, 13, 2112, -13]\n",
      "CHARGE:  [0, 1, 0, 0, -1, 1, -1, 0, -1, 0, 1]\n",
      "gps_sorted_energy:  [10, 0, 6, 2, 8, 12, 4, 9, 5, 3, 7, 1, 11, 13]\n",
      "PDG:  [13, 2212, 11, 130, 2112, 11, 22, 13, 11, -13, 13, -2112, 13, 22]\n",
      "CHARGE:  [-1, 1, -1, 0, 0, -1, 0, -1, -1, 1, -1, 0, -1, 0]\n"
     ]
    },
    {
     "name": "stderr",
     "output_type": "stream",
     "text": [
      " 31%|███       | 31/100 [00:03<00:07,  8.88it/s]"
     ]
    },
    {
     "name": "stdout",
     "output_type": "stream",
     "text": [
      "gps_sorted_energy:  [9, 0, 3, 2, 10, 7, 5, 4, 1, 8, 12, 13, 6, 11]\n",
      "PDG:  [22, 22, 13, -13, -2112, -11, -13, 22, -11, 11, -2112, 22, -13, 13]\n",
      "CHARGE:  [0, 0, -1, 1, 0, 1, 1, 0, 1, -1, 0, 0, 1, -1]\n",
      "gps_sorted_energy:  [7, 5, 2, 4, 8, 6, 3, 10, 1, 11, 9, 0]\n",
      "PDG:  [-11, -13, -13, 130, 2112, -2112, -11, 22, 13, 130, 13, 2112]\n",
      "CHARGE:  [1, 1, 1, 0, 0, 0, 1, 0, -1, 0, -1, 0]\n"
     ]
    },
    {
     "name": "stderr",
     "output_type": "stream",
     "text": [
      " 33%|███▎      | 33/100 [00:03<00:07,  8.69it/s]"
     ]
    },
    {
     "name": "stdout",
     "output_type": "stream",
     "text": [
      "gps_sorted_energy:  [2, 1, 13, 4, 0, 7, 8, 3, 5, 6, 10, 12, 9, 11]\n",
      "PDG:  [11, 22, -2112, 2112, 2112, 2112, 22, 22, 13, -11, 2212, 22, 22, -13]\n",
      "CHARGE:  [-1, 0, 0, 0, 0, 0, 0, 0, -1, 1, 1, 0, 0, 1]\n",
      "gps_sorted_energy:  [13, 1, 12, 3, 4, 2, 11, 0, 7, 10, 9, 6, 8, 5]\n",
      "PDG:  [2112, -13, 13, -11, 321, 22, 2112, -11, -2212, 13, 2112, -11, 130, 13]\n",
      "CHARGE:  [0, 1, -1, 1, 1, 0, 0, 1, -1, -1, 0, 1, 0, -1]\n"
     ]
    },
    {
     "name": "stderr",
     "output_type": "stream",
     "text": [
      " 35%|███▌      | 35/100 [00:03<00:07,  8.92it/s]"
     ]
    },
    {
     "name": "stdout",
     "output_type": "stream",
     "text": [
      "gps_sorted_energy:  [4, 2, 3, 8, 1, 6, 9, 7, 5, 0]\n",
      "PDG:  [22, 11, 2112, -2212, 22, 22, -11, 11, -13, 11]\n",
      "CHARGE:  [0, -1, 0, -1, 0, 0, 1, -1, 1, -1]\n",
      "gps_sorted_energy:  [12, 8, 4, 6, 2, 1, 9, 5, 0, 13, 11, 3, 14, 10, 7]\n",
      "PDG:  [-11, -13, 11, 130, -321, 11, -2112, 22, 22, 11, -13, 22, 13, -2212, 11]\n",
      "CHARGE:  [1, 1, -1, 0, -1, -1, 0, 0, 0, -1, 1, 0, -1, -1, -1]\n"
     ]
    },
    {
     "name": "stderr",
     "output_type": "stream",
     "text": [
      " 36%|███▌      | 36/100 [00:03<00:07,  8.91it/s]"
     ]
    },
    {
     "name": "stdout",
     "output_type": "stream",
     "text": [
      "gps_sorted_energy:  [7, 6, 0, 12, 9, 8, 1, 4, 5, 11, 10, 2, 3]\n",
      "PDG:  [321, -2212, -11, 13, -211, 2112, 11, -211, -11, 13, 11, 22, -13]\n",
      "CHARGE:  [1, -1, 1, -1, -1, 0, -1, -1, 1, -1, -1, 0, 1]\n",
      "gps_sorted_energy:  [3, 2, 8, 6, 7, 1, 5, 0, 4]\n",
      "PDG:  [130, 22, 22, 22, -13, 22, 2112, -13, 13]\n",
      "CHARGE:  [0, 0, 0, 0, 1, 0, 0, 1, -1]\n"
     ]
    },
    {
     "name": "stderr",
     "output_type": "stream",
     "text": [
      " 39%|███▉      | 39/100 [00:04<00:06,  8.99it/s]"
     ]
    },
    {
     "name": "stdout",
     "output_type": "stream",
     "text": [
      "gps_sorted_energy:  [11, 1, 13, 5, 4, 14, 12, 3, 9, 7, 0, 6, 10, 2, 8]\n",
      "PDG:  [-2112, 130, 22, 13, -2112, 211, 13, -2112, 22, 22, -211, 13, 22, 211, 22]\n",
      "CHARGE:  [0, 0, 0, -1, 0, 1, -1, 0, 0, 0, -1, -1, 0, 1, 0]\n",
      "gps_sorted_energy:  [5, 7, 1, 6, 10, 9, 0, 4, 2, 8, 3]\n",
      "PDG:  [130, 130, -11, 22, 130, 22, -11, 22, 11, 2112, 22]\n",
      "CHARGE:  [0, 0, 1, 0, 0, 0, 1, 0, -1, 0, 0]\n"
     ]
    },
    {
     "name": "stderr",
     "output_type": "stream",
     "text": [
      " 41%|████      | 41/100 [00:04<00:06,  8.61it/s]"
     ]
    },
    {
     "name": "stdout",
     "output_type": "stream",
     "text": [
      "gps_sorted_energy:  [0, 8, 1, 5, 2, 7, 6, 4, 3, 9]\n",
      "PDG:  [22, -211, -11, 130, -321, 2112, 130, -11, -321, 22]\n",
      "CHARGE:  [0, -1, 1, 0, -1, 0, 0, 1, -1, 0]\n",
      "gps_sorted_energy:  [11, 1, 5, 0, 8, 2, 10, 7, 4, 3, 6, 9]\n",
      "PDG:  [2112, 11, -13, -2112, 11, -11, -11, -11, -2212, 11, 11, 22]\n",
      "CHARGE:  [0, -1, 1, 0, -1, 1, 1, 1, -1, -1, -1, 0]\n"
     ]
    },
    {
     "name": "stderr",
     "output_type": "stream",
     "text": [
      " 43%|████▎     | 43/100 [00:04<00:06,  8.98it/s]"
     ]
    },
    {
     "name": "stdout",
     "output_type": "stream",
     "text": [
      "gps_sorted_energy:  [6, 1, 8, 9, 7, 3, 2, 5, 4, 11, 0, 10, 12]\n",
      "PDG:  [22, -13, 22, 130, -13, 22, -13, -211, 22, -13, 2212, 130, 211]\n",
      "CHARGE:  [0, 1, 0, 0, 1, 0, 1, -1, 0, 1, 1, 0, 1]\n",
      "gps_sorted_energy:  [7, 3, 6, 8, 11, 9, 4, 5, 2, 12, 1, 0, 10]\n",
      "PDG:  [22, 22, 13, 22, 22, -321, 22, -11, 130, 11, -13, -13, -11]\n",
      "CHARGE:  [0, 0, -1, 0, 0, -1, 0, 1, 0, -1, 1, 1, 1]\n",
      "gps_sorted_energy:  [10, 4, 7, 6, 0, 3, 5, 1, 2, 8, 9]\n",
      "PDG:  [22, 22, 11, -11, -13, -11, 11, 2112, 11, -13, -13]\n",
      "CHARGE:  [0, 0, -1, 1, 1, 1, -1, 0, -1, 1, 1]\n"
     ]
    },
    {
     "name": "stderr",
     "output_type": "stream",
     "text": [
      " 46%|████▌     | 46/100 [00:05<00:05,  9.15it/s]"
     ]
    },
    {
     "name": "stdout",
     "output_type": "stream",
     "text": [
      "gps_sorted_energy:  [7, 0, 10, 8, 4, 2, 6, 9, 5, 1, 3]\n",
      "PDG:  [130, 211, -211, 13, 22, -11, 130, -2112, 22, -13, 11]\n",
      "CHARGE:  [0, 1, -1, -1, 0, 1, 0, 0, 0, 1, -1]\n",
      "gps_sorted_energy:  [12, 6, 9, 0, 8, 13, 3, 7, 2, 10, 5, 4, 1, 14, 11]\n",
      "PDG:  [211, 2112, 130, -11, 22, -2112, 321, ..., -2112, 11, 130, 13, 130, 22, 11]\n",
      "CHARGE:  [1, 0, 0, 1, 0, 0, 1, -1, 0, -1, 0, -1, 0, 0, -1]\n"
     ]
    },
    {
     "name": "stderr",
     "output_type": "stream",
     "text": [
      " 48%|████▊     | 48/100 [00:05<00:05,  8.83it/s]"
     ]
    },
    {
     "name": "stdout",
     "output_type": "stream",
     "text": [
      "gps_sorted_energy:  [8, 6, 10, 1, 4, 12, 2, 13, 7, 5, 0, 14, 9, 11, 3]\n",
      "PDG:  [2112, 22, 22, -13, 11, -13, 22, -2212, 13, 22, 13, 11, -2212, 22, 11]\n",
      "CHARGE:  [0, 0, 0, 1, -1, 1, 0, -1, -1, 0, -1, -1, -1, 0, -1]\n",
      "gps_sorted_energy:  [4, 0, 1, 5, 7, 12, 9, 10, 6, 11, 3, 2, 8]\n",
      "PDG:  [-211, 13, 22, -11, 13, 11, -211, 11, 22, 22, 130, -11, -13]\n",
      "CHARGE:  [-1, -1, 0, 1, -1, -1, -1, -1, 0, 0, 0, 1, 1]\n"
     ]
    },
    {
     "name": "stderr",
     "output_type": "stream",
     "text": [
      " 50%|█████     | 50/100 [00:05<00:05,  8.85it/s]"
     ]
    },
    {
     "name": "stdout",
     "output_type": "stream",
     "text": [
      "gps_sorted_energy:  [5, 7, 6, 4, 2, 3, 0, 9, 8, 1]\n",
      "PDG:  [321, -13, -13, 22, 2112, -13, 11, -11, -321, 211]\n",
      "CHARGE:  [1, 1, 1, 0, 0, 1, -1, 1, -1, 1]\n",
      "gps_sorted_energy:  [12, 0, 7, 2, 9, 6, 8, 4, 11, 5, 10, 1, 3]\n",
      "PDG:  [-11, 130, -2112, -11, -13, 130, 22, -2212, 13, 130, 13, 22, -11]\n",
      "CHARGE:  [1, 0, 0, 1, 1, 0, 0, -1, -1, 0, -1, 0, 1]\n"
     ]
    },
    {
     "name": "stderr",
     "output_type": "stream",
     "text": [
      " 52%|█████▏    | 52/100 [00:05<00:06,  7.56it/s]"
     ]
    },
    {
     "name": "stdout",
     "output_type": "stream",
     "text": [
      "gps_sorted_energy:  [3, 1, 11, 7, 14, 0, 2, 12, 9, 10, 13, 6, 4, 8, 5]\n",
      "PDG:  [-211, -211, 13, -11, 130, 22, 130, ..., -11, -11, 2212, 22, 22, 2112, -2112]\n",
      "CHARGE:  [-1, -1, -1, 1, 0, 0, 0, -1, 1, 1, 1, 0, 0, 0, 0]\n",
      "gps_sorted_energy:  [8, 9, 13, 5, 6, 7, 14, 4, 12, 11, 10, 1, 0, 3, 2]\n",
      "PDG:  [-2212, -11, 11, 11, -2212, 22, -11, ..., 211, 2212, -13, 22, -2212, 2212, -11]\n",
      "CHARGE:  [-1, 1, -1, -1, -1, 0, 1, 1, 1, 1, 1, 0, -1, 1, 1]\n"
     ]
    },
    {
     "name": "stderr",
     "output_type": "stream",
     "text": [
      " 54%|█████▍    | 54/100 [00:06<00:05,  8.04it/s]"
     ]
    },
    {
     "name": "stdout",
     "output_type": "stream",
     "text": [
      "gps_sorted_energy:  [11, 6, 3, 8, 7, 0, 5, 2, 10, 1, 9, 4]\n",
      "PDG:  [13, 2112, 13, 22, 22, -11, -11, 130, 130, 11, -11, 22]\n",
      "CHARGE:  [-1, 0, -1, 0, 0, 1, 1, 0, 0, -1, 1, 0]\n",
      "gps_sorted_energy:  [11, 3, 0, 12, 7, 1, 4, 2, 5, 9, 6, 10, 8]\n",
      "PDG:  [13, -11, -13, 130, 22, 22, 211, 22, -11, -13, 22, -13, -11]\n",
      "CHARGE:  [-1, 1, 1, 0, 0, 0, 1, 0, 1, 1, 0, 1, 1]\n"
     ]
    },
    {
     "name": "stderr",
     "output_type": "stream",
     "text": [
      " 56%|█████▌    | 56/100 [00:06<00:05,  8.26it/s]"
     ]
    },
    {
     "name": "stdout",
     "output_type": "stream",
     "text": [
      "gps_sorted_energy:  [8, 9, 5, 12, 7, 4, 13, 6, 2, 10, 1, 0, 11, 3]\n",
      "PDG:  [22, -2112, 22, 11, 11, 22, 321, 321, -211, -2112, -11, 11, 11, -13]\n",
      "CHARGE:  [0, 0, 0, -1, -1, 0, 1, 1, -1, 0, 1, -1, -1, 1]\n",
      "gps_sorted_energy:  [13, 5, 6, 14, 9, 12, 4, 1, 7, 8, 0, 11, 2, 10, 3]\n",
      "PDG:  [22, 13, -2212, -13, 13, -2112, 2112, ..., 2112, 22, 22, -2212, 130, -2212, -13]\n",
      "CHARGE:  [0, -1, -1, 1, -1, 0, 0, -1, 0, 0, 0, -1, 0, -1, 1]\n"
     ]
    },
    {
     "name": "stderr",
     "output_type": "stream",
     "text": [
      " 58%|█████▊    | 58/100 [00:06<00:04,  8.82it/s]"
     ]
    },
    {
     "name": "stdout",
     "output_type": "stream",
     "text": [
      "gps_sorted_energy:  [4, 10, 0, 5, 7, 8, 6, 9, 3, 1, 11, 12, 2]\n",
      "PDG:  [130, 321, 211, 2212, -11, 130, -321, 2112, -2212, 22, 2112, 22, 211]\n",
      "CHARGE:  [0, 1, 1, 1, 1, 0, -1, 0, -1, 0, 0, 0, 1]\n",
      "gps_sorted_energy:  [6, 2, 0, 4, 3, 5, 1, 8, 9, 7, 10]\n",
      "PDG:  [-13, -13, 11, 13, 13, 2212, 11, -13, -2112, -13, 22]\n",
      "CHARGE:  [1, 1, -1, -1, -1, 1, -1, 1, 0, 1, 0]\n"
     ]
    },
    {
     "name": "stderr",
     "output_type": "stream",
     "text": [
      " 59%|█████▉    | 59/100 [00:06<00:04,  8.72it/s]"
     ]
    },
    {
     "name": "stdout",
     "output_type": "stream",
     "text": [
      "gps_sorted_energy:  [8, 6, 10, 12, 11, 1, 3, 0, 7, 5, 2, 4, 9]\n",
      "PDG:  [22, 22, 22, -11, -13, 13, -2112, -2112, 11, 22, -2112, 2112, 2112]\n",
      "CHARGE:  [0, 0, 0, 1, 1, -1, 0, 0, -1, 0, 0, 0, 0]\n",
      "gps_sorted_energy:  [8, 3, 2, 7, 5, 4, 9, 0, 1, 6]\n",
      "PDG:  [13, 211, 22, 2112, -11, 11, 22, -13, 13, -11]\n",
      "CHARGE:  [-1, 1, 0, 0, 1, -1, 0, 1, -1, 1]\n",
      "gps_sorted_energy:  [10, 8, 2, 9, 1, 4, 3, 0, 7, 5, 6]\n",
      "PDG:  [22, -2112, 22, -11, 22, -321, -11, 11, 2212, 2112, 211]\n",
      "CHARGE:  [0, 0, 0, 1, 0, -1, 1, -1, 1, 0, 1]\n"
     ]
    },
    {
     "name": "stderr",
     "output_type": "stream",
     "text": [
      " 63%|██████▎   | 63/100 [00:07<00:04,  8.64it/s]"
     ]
    },
    {
     "name": "stdout",
     "output_type": "stream",
     "text": [
      "gps_sorted_energy:  [5, 4, 2, 3, 7, 6, 8, 1, 0, 9]\n",
      "PDG:  [-2112, -2112, 22, 2212, 130, 130, -11, -2112, 2112, -2112]\n",
      "CHARGE:  [0, 0, 0, 1, 0, 0, 1, 0, 0, 0]\n",
      "gps_sorted_energy:  [2, 3, 10, 4, 6, 12, 1, 11, 9, 13, 8, 14, 7, 0, 5]\n",
      "PDG:  [-13, 22, 13, 2212, -11, 2212, -2212, ..., 2112, 2212, -11, 13, 2212, -2112, 11]\n",
      "CHARGE:  [1, 0, -1, 1, 1, 1, -1, 1, 0, 1, 1, -1, 1, 0, -1]\n"
     ]
    },
    {
     "name": "stderr",
     "output_type": "stream",
     "text": [
      " 65%|██████▌   | 65/100 [00:07<00:04,  8.63it/s]"
     ]
    },
    {
     "name": "stdout",
     "output_type": "stream",
     "text": [
      "gps_sorted_energy:  [8, 2, 13, 1, 11, 5, 9, 6, 7, 3, 10, 0, 12, 4]\n",
      "PDG:  [-211, 130, 2212, 22, 13, -13, 11, 130, 11, 2112, -11, 2112, 22, 211]\n",
      "CHARGE:  [-1, 0, 1, 0, -1, 1, -1, 0, -1, 0, 1, 0, 0, 1]\n",
      "gps_sorted_energy:  [12, 0, 6, 10, 8, 2, 3, 11, 7, 4, 13, 14, 1, 9, 5]\n",
      "PDG:  [11, 130, 2112, 13, -2212, -11, 22, 22, -13, 130, 13, -211, 13, 22, 11]\n",
      "CHARGE:  [-1, 0, 0, -1, -1, 1, 0, 0, 1, 0, -1, -1, -1, 0, -1]\n"
     ]
    },
    {
     "name": "stderr",
     "output_type": "stream",
     "text": [
      " 67%|██████▋   | 67/100 [00:07<00:04,  7.53it/s]"
     ]
    },
    {
     "name": "stdout",
     "output_type": "stream",
     "text": [
      "gps_sorted_energy:  [0, 11, 10, 5, 6, 7, 13, 4, 12, 8, 2, 9, 3, 1]\n",
      "PDG:  [13, -13, 13, 130, -13, 22, -13, 22, 22, -2112, 130, 211, 2112, 2112]\n",
      "CHARGE:  [-1, 1, -1, 0, 1, 0, 1, 0, 0, 0, 0, 1, 0, 0]\n",
      "gps_sorted_energy:  [4, 0, 2, 8, 1, 5, 3, 6, 9, 7]\n",
      "PDG:  [130, 22, -13, -2112, 11, -321, 130, 11, 22, 130]\n",
      "CHARGE:  [0, 0, 1, 0, -1, -1, 0, -1, 0, 0]\n"
     ]
    },
    {
     "name": "stderr",
     "output_type": "stream",
     "text": [
      " 69%|██████▉   | 69/100 [00:07<00:03,  8.45it/s]"
     ]
    },
    {
     "name": "stdout",
     "output_type": "stream",
     "text": [
      "gps_sorted_energy:  [7, 3, 9, 4, 6, 5, 0, 10, 1, 12, 8, 2, 11]\n",
      "PDG:  [13, 22, 22, 13, 13, 13, 22, 130, 11, 130, -11, -13, 13]\n",
      "CHARGE:  [-1, 0, 0, -1, -1, -1, 0, 0, -1, 0, 1, 1, -1]\n",
      "gps_sorted_energy:  [9, 4, 2, 3, 1, 0, 5, 7, 8, 6]\n",
      "PDG:  [11, -321, 13, 11, 130, 321, -11, 22, 2212, 11]\n",
      "CHARGE:  [-1, -1, -1, -1, 0, 1, 1, 0, 1, -1]\n"
     ]
    },
    {
     "name": "stderr",
     "output_type": "stream",
     "text": [
      " 71%|███████   | 71/100 [00:08<00:03,  8.41it/s]"
     ]
    },
    {
     "name": "stdout",
     "output_type": "stream",
     "text": [
      "gps_sorted_energy:  [11, 1, 3, 5, 4, 8, 2, 10, 6, 7, 0, 9, 12]\n",
      "PDG:  [2112, 22, 13, 2112, 13, 321, 22, 11, 2212, 22, 2112, 321, 11]\n",
      "CHARGE:  [0, 0, -1, 0, -1, 1, 0, -1, 1, 0, 0, 1, -1]\n",
      "gps_sorted_energy:  [8, 10, 2, 7, 3, 13, 0, 12, 6, 5, 11, 1, 9, 4]\n",
      "PDG:  [-11, 13, 13, -321, 11, -2212, 22, 211, 11, 211, -321, -11, -2112, 2212]\n",
      "CHARGE:  [1, -1, -1, -1, -1, -1, 0, 1, -1, 1, -1, 1, 0, 1]\n"
     ]
    },
    {
     "name": "stderr",
     "output_type": "stream",
     "text": [
      " 72%|███████▏  | 72/100 [00:08<00:03,  8.72it/s]"
     ]
    },
    {
     "name": "stdout",
     "output_type": "stream",
     "text": [
      "gps_sorted_energy:  [2, 1, 9, 8, 7, 6, 3, 5, 4, 0]\n",
      "PDG:  [-321, 2112, -13, 13, 13, -2212, -13, -2112, -2212, -211]\n",
      "CHARGE:  [-1, 0, 1, -1, -1, -1, 1, 0, -1, -1]\n",
      "gps_sorted_energy:  [3, 2, 5, 9, 4, 1, 6, 7, 8, 0]\n",
      "PDG:  [22, 130, 22, 211, 13, 2112, 22, 13, 130, -211]\n",
      "CHARGE:  [0, 0, 0, 1, -1, 0, 0, -1, 0, -1]\n"
     ]
    },
    {
     "name": "stderr",
     "output_type": "stream",
     "text": [
      " 75%|███████▌  | 75/100 [00:08<00:02,  8.98it/s]"
     ]
    },
    {
     "name": "stdout",
     "output_type": "stream",
     "text": [
      "gps_sorted_energy:  [0, 6, 8, 7, 9, 11, 3, 5, 4, 1, 12, 10, 2]\n",
      "PDG:  [22, 22, 321, -11, -11, -2112, 22, -11, 321, -321, 2212, 22, -2112]\n",
      "CHARGE:  [0, 0, 1, 1, 1, 0, 0, 1, 1, -1, 1, 0, 0]\n",
      "gps_sorted_energy:  [9, 8, 3, 4, 6, 0, 10, 7, 5, 2, 1]\n",
      "PDG:  [2112, 22, 22, 22, -11, -2212, -13, 321, 321, -2212, 22]\n",
      "CHARGE:  [0, 0, 0, 0, 1, -1, 1, 1, 1, -1, 0]\n"
     ]
    },
    {
     "name": "stderr",
     "output_type": "stream",
     "text": [
      " 77%|███████▋  | 77/100 [00:08<00:02,  8.86it/s]"
     ]
    },
    {
     "name": "stdout",
     "output_type": "stream",
     "text": [
      "gps_sorted_energy:  [10, 5, 2, 6, 4, 9, 0, 8, 1, 3, 7]\n",
      "PDG:  [-11, 130, 13, 13, 2212, -13, 22, -13, -11, -13, -11]\n",
      "CHARGE:  [1, 0, -1, -1, 1, 1, 0, 1, 1, 1, 1]\n",
      "gps_sorted_energy:  [9, 4, 14, 3, 13, 2, 12, 0, 10, 7, 6, 11, 8, 5, 1]\n",
      "PDG:  [211, 22, 2212, 321, -13, 11, -11, 11, -13, 2212, 22, -321, 130, 11, 22]\n",
      "CHARGE:  [1, 0, 1, 1, 1, -1, 1, -1, 1, 1, 0, -1, 0, -1, 0]\n"
     ]
    },
    {
     "name": "stderr",
     "output_type": "stream",
     "text": [
      " 79%|███████▉  | 79/100 [00:09<00:02,  7.57it/s]"
     ]
    },
    {
     "name": "stdout",
     "output_type": "stream",
     "text": [
      "gps_sorted_energy:  [9, 5, 1, 7, 4, 0, 3, 2, 6, 8]\n",
      "PDG:  [2212, -211, 2212, -2112, 2212, -13, -13, -321, 11, 211]\n",
      "CHARGE:  [1, -1, 1, 0, 1, 1, 1, -1, -1, 1]\n",
      "gps_sorted_energy:  [4, 7, 6, 0, 1, 9, 3, 8, 10, 5, 2, 11]\n",
      "PDG:  [11, -2112, 130, -321, -11, -13, 211, 2112, 11, 22, 2212, 13]\n",
      "CHARGE:  [-1, 0, 0, -1, 1, 1, 1, 0, -1, 0, 1, -1]\n"
     ]
    },
    {
     "name": "stderr",
     "output_type": "stream",
     "text": [
      " 81%|████████  | 81/100 [00:09<00:02,  7.46it/s]"
     ]
    },
    {
     "name": "stdout",
     "output_type": "stream",
     "text": [
      "gps_sorted_energy:  [11, 0, 13, 8, 2, 9, 14, 7, 10, 1, 6, 3, 4, 5, 12]\n",
      "PDG:  [2112, 13, -2112, -2212, -2112, -11, 11, ..., 211, 321, 22, -321, 11, 13, 13]\n",
      "CHARGE:  [0, -1, 0, -1, 0, 1, -1, 0, 1, 1, 0, -1, -1, -1, -1]\n",
      "gps_sorted_energy:  [3, 6, 7, 4, 0, 5, 10, 1, 2, 11, 8, 9]\n",
      "PDG:  [-13, 22, -2112, 22, 22, 11, 22, 11, 130, -211, -211, -11]\n",
      "CHARGE:  [1, 0, 0, 0, 0, -1, 0, -1, 0, -1, -1, 1]\n"
     ]
    },
    {
     "name": "stderr",
     "output_type": "stream",
     "text": [
      " 83%|████████▎ | 83/100 [00:09<00:02,  7.92it/s]"
     ]
    },
    {
     "name": "stdout",
     "output_type": "stream",
     "text": [
      "gps_sorted_energy:  [6, 0, 2, 8, 7, 4, 3, 1, 5, 9, 10]\n",
      "PDG:  [-211, 13, 211, 22, 22, -11, 22, 22, 13, -11, -11]\n",
      "CHARGE:  [-1, -1, 1, 0, 0, 1, 0, 0, -1, 1, 1]\n",
      "gps_sorted_energy:  [10, 3, 8, 4, 6, 1, 0, 9, 5, 7, 2, 11]\n",
      "PDG:  [-13, -2212, 22, -13, 13, 2212, -11, -2112, 22, 22, -321, 22]\n",
      "CHARGE:  [1, -1, 0, 1, -1, 1, 1, 0, 0, 0, -1, 0]\n"
     ]
    },
    {
     "name": "stderr",
     "output_type": "stream",
     "text": [
      " 85%|████████▌ | 85/100 [00:09<00:01,  8.48it/s]"
     ]
    },
    {
     "name": "stdout",
     "output_type": "stream",
     "text": [
      "gps_sorted_energy:  [8, 5, 9, 10, 3, 6, 7, 11, 4, 1, 0, 12, 2]\n",
      "PDG:  [-321, -13, 22, 11, 2112, -2212, 2112, 22, 11, -13, -2112, 13, -13]\n",
      "CHARGE:  [-1, 1, 0, -1, 0, -1, 0, 0, -1, 1, 0, -1, 1]\n",
      "gps_sorted_energy:  [8, 9, 2, 0, 4, 3, 7, 5, 6, 10, 1]\n",
      "PDG:  [-11, 130, 22, 13, -13, -13, -2112, -13, 22, 2112, -11]\n",
      "CHARGE:  [1, 0, 0, -1, 1, 1, 0, 1, 0, 0, 1]\n"
     ]
    },
    {
     "name": "stderr",
     "output_type": "stream",
     "text": [
      " 87%|████████▋ | 87/100 [00:10<00:01,  8.05it/s]"
     ]
    },
    {
     "name": "stdout",
     "output_type": "stream",
     "text": [
      "gps_sorted_energy:  [10, 5, 0, 1, 3, 11, 4, 2, 8, 6, 9, 7]\n",
      "PDG:  [2112, -11, -2212, 2112, -2112, 22, -11, -13, 2212, 13, 11, 130]\n",
      "CHARGE:  [0, 1, -1, 0, 0, 0, 1, 1, 1, -1, -1, 0]\n",
      "gps_sorted_energy:  [4, 0, 5, 9, 11, 8, 2, 7, 6, 3, 1, 12, 10]\n",
      "PDG:  [22, -2212, -321, 22, -13, 22, -2112, 2112, -11, 211, -211, 22, 11]\n",
      "CHARGE:  [0, -1, -1, 0, 1, 0, 0, 0, 1, 1, -1, 0, -1]\n"
     ]
    },
    {
     "name": "stderr",
     "output_type": "stream",
     "text": [
      " 89%|████████▉ | 89/100 [00:10<00:01,  8.44it/s]"
     ]
    },
    {
     "name": "stdout",
     "output_type": "stream",
     "text": [
      "gps_sorted_energy:  [4, 1, 2, 6, 0, 5, 11, 12, 7, 9, 8, 14, 13, 10, 3]\n",
      "PDG:  [-321, 2112, 2112, -11, 11, -211, 130, ..., 22, 11, 13, -13, 13, -211, -2212]\n",
      "CHARGE:  [-1, 0, 0, 1, -1, -1, 0, 0, 0, -1, -1, 1, -1, -1, -1]\n",
      "gps_sorted_energy:  [2, 1, 9, 0, 7, 10, 12, 8, 4, 5, 6, 13, 11, 3]\n",
      "PDG:  [22, -13, -11, -11, 22, 2112, 22, 13, 2112, -11, -11, -211, -2112, -11]\n",
      "CHARGE:  [0, 1, 1, 1, 0, 0, 0, -1, 0, 1, 1, -1, 0, 1]\n"
     ]
    },
    {
     "name": "stderr",
     "output_type": "stream",
     "text": [
      " 91%|█████████ | 91/100 [00:10<00:01,  8.22it/s]"
     ]
    },
    {
     "name": "stdout",
     "output_type": "stream",
     "text": [
      "gps_sorted_energy:  [2, 8, 6, 1, 7, 0, 3, 4, 5, 9, 10]\n",
      "PDG:  [22, -11, 22, 11, 22, 22, 13, 13, -11, 321, 130]\n",
      "CHARGE:  [0, 1, 0, -1, 0, 0, -1, -1, 1, 1, 0]\n",
      "gps_sorted_energy:  [10, 5, 3, 11, 2, 6, 7, 9, 0, 4, 8, 1]\n",
      "PDG:  [-211, -11, 22, -2112, -11, -2112, 130, 22, 22, 2112, -2212, 211]\n",
      "CHARGE:  [-1, 1, 0, 0, 1, 0, 0, 0, 0, 0, -1, 1]\n"
     ]
    },
    {
     "name": "stderr",
     "output_type": "stream",
     "text": [
      " 92%|█████████▏| 92/100 [00:10<00:00,  8.36it/s]"
     ]
    },
    {
     "name": "stdout",
     "output_type": "stream",
     "text": [
      "gps_sorted_energy:  [6, 7, 10, 4, 0, 5, 2, 8, 1, 9, 3]\n",
      "PDG:  [-13, 130, 11, -13, 211, -2212, 13, -11, 22, 2112, 13]\n",
      "CHARGE:  [1, 0, -1, 1, 1, -1, -1, 1, 0, 0, -1]\n",
      "gps_sorted_energy:  [3, 9, 0, 11, 8, 2, 4, 1, 7, 10, 6, 5]\n",
      "PDG:  [13, -11, 130, 13, -2212, 130, 130, -2212, 321, 2112, 211, 11]\n",
      "CHARGE:  [-1, 1, 0, -1, -1, 0, 0, -1, 1, 0, 1, -1]\n"
     ]
    },
    {
     "name": "stderr",
     "output_type": "stream",
     "text": [
      " 95%|█████████▌| 95/100 [00:10<00:00,  8.56it/s]"
     ]
    },
    {
     "name": "stdout",
     "output_type": "stream",
     "text": [
      "gps_sorted_energy:  [4, 5, 7, 1, 9, 2, 10, 6, 13, 8, 11, 3, 0, 12]\n",
      "PDG:  [11, 11, 11, -13, 11, 22, 2112, 321, 22, 22, 22, -13, -11, -13]\n",
      "CHARGE:  [-1, -1, -1, 1, -1, 0, 0, 1, 0, 0, 0, 1, 1, 1]\n",
      "gps_sorted_energy:  [7, 10, 1, 8, 4, 5, 3, 9, 2, 0, 6, 11]\n",
      "PDG:  [13, 11, -13, 22, -11, -321, 22, -2112, -11, -2112, -2212, 11]\n",
      "CHARGE:  [-1, -1, 1, 0, 1, -1, 0, 0, 1, 0, -1, -1]\n"
     ]
    },
    {
     "name": "stderr",
     "output_type": "stream",
     "text": [
      " 97%|█████████▋| 97/100 [00:11<00:00,  8.73it/s]"
     ]
    },
    {
     "name": "stdout",
     "output_type": "stream",
     "text": [
      "gps_sorted_energy:  [5, 4, 1, 3, 7, 0, 9, 8, 6, 2]\n",
      "PDG:  [13, -211, 11, -11, 22, -321, 22, -11, -2112, 11]\n",
      "CHARGE:  [-1, -1, -1, 1, 0, -1, 0, 1, 0, -1]\n",
      "gps_sorted_energy:  [9, 10, 6, 1, 4, 2, 5, 7, 0, 3, 8]\n",
      "PDG:  [-11, 2112, 211, -2212, 11, 22, 13, -13, 13, 13, 11]\n",
      "CHARGE:  [1, 0, 1, -1, -1, 0, -1, 1, -1, -1, -1]\n"
     ]
    },
    {
     "name": "stderr",
     "output_type": "stream",
     "text": [
      " 99%|█████████▉| 99/100 [00:11<00:00,  8.57it/s]"
     ]
    },
    {
     "name": "stdout",
     "output_type": "stream",
     "text": [
      "gps_sorted_energy:  [11, 12, 4, 8, 6, 2, 9, 3, 7, 1, 5, 0, 13, 10, 14]\n",
      "PDG:  [211, -211, -11, -11, 13, 321, 22, 211, -11, 22, 13, 13, -13, 22, 211]\n",
      "CHARGE:  [1, -1, 1, 1, -1, 1, 0, 1, 1, 0, -1, -1, 1, 0, 1]\n",
      "gps_sorted_energy:  [7, 9, 3, 0, 1, 10, 2, 8, 4, 6, 5]\n",
      "PDG:  [-13, 22, -2112, 11, 130, 22, 22, -11, 211, -11, 22]\n",
      "CHARGE:  [1, 0, 0, -1, 0, 0, 0, 1, 1, 1, 0]\n"
     ]
    },
    {
     "name": "stderr",
     "output_type": "stream",
     "text": [
      "100%|██████████| 100/100 [00:11<00:00,  8.68it/s]\n"
     ]
    },
    {
     "name": "stdout",
     "output_type": "stream",
     "text": [
      "gps_sorted_energy:  [2, 4, 1, 9, 0, 3, 6, 10, 7, 8, 5]\n",
      "PDG:  [22, 130, -11, 211, 130, 11, -2112, 22, -11, -11, -2112]\n",
      "CHARGE:  [0, 0, 1, 1, 0, -1, 0, 0, 1, 1, 0]\n"
     ]
    }
   ],
   "source": [
    "from postprocessing_hits import process_one_file\n",
    "import uproot\n",
    "\n",
    "file = uproot.open(\"fcc/small_gun_sample/out_reco_edm4hep_REC.edm4hep.root\")\n",
    "root_events = file[\"events\"]\n",
    "\n",
    "import os\n",
    "\n",
    "out_directory = \"fcc_processed/\"\n",
    "\n",
    "os.makedirs(out_directory, exist_ok=True)\n",
    "\n",
    "fi = \"fcc/small_gun_sample/out_reco_edm4hep_REC.edm4hep.root\"\n",
    "fo = out_directory+\"out_reco_edm4hep_REC.parquet\"\n",
    "\n",
    "out = process_one_file(fi, fo, \"fcc\")"
   ]
  },
  {
   "cell_type": "code",
   "execution_count": 2,
   "metadata": {},
   "outputs": [],
   "source": [
    "from utils_edm_hit import generate_examples\n"
   ]
  },
  {
   "cell_type": "code",
   "execution_count": 3,
   "metadata": {},
   "outputs": [],
   "source": [
    "gen = generate_examples([\"fcc_processed/out_reco_edm4hep_REC.parquet\",])"
   ]
  },
  {
   "cell_type": "code",
   "execution_count": 4,
   "metadata": {},
   "outputs": [
    {
     "name": "stderr",
     "output_type": "stream",
     "text": [
      "  0%|          | 0/1 [00:00<?, ?it/s]"
     ]
    },
    {
     "data": {
      "text/plain": [
       "dict_keys(['X', 'ygen', 'ycand', 'gp_to_tracks', 'gp_to_hits', 'PDGIDs', 'gp_charges', 'gp_to_objs'])"
      ]
     },
     "execution_count": 4,
     "metadata": {},
     "output_type": "execute_result"
    }
   ],
   "source": [
    "d = next(gen)[1]\n",
    "d.keys()"
   ]
  },
  {
   "cell_type": "code",
   "execution_count": 5,
   "metadata": {},
   "outputs": [
    {
     "data": {
      "text/plain": [
       "array([  11, 2212,   11,   11,   11,   22,  -13, -321,   13])"
      ]
     },
     "execution_count": 5,
     "metadata": {},
     "output_type": "execute_result"
    }
   ],
   "source": [
    "iptcl_track = d[\"gp_to_objs\"][d[\"gp_to_objs\"][:, 0] != -1][:, 0]\n",
    "iptcl_hit = d[\"gp_to_objs\"][d[\"gp_to_objs\"][:, 1] != -1][:, 1]\n",
    "\n",
    "d[\"PDGIDs\"][iptcl_track]"
   ]
  },
  {
   "cell_type": "code",
   "execution_count": 5,
   "metadata": {},
   "outputs": [
    {
     "name": "stdout",
     "output_type": "stream",
     "text": [
      "[[  7  -1]\n",
      " [  8  -1]\n",
      " [  2  -1]\n",
      " [ -1 711]\n",
      " [  4  -1]\n",
      " [  1  -1]\n",
      " [  3  -1]\n",
      " [  5  -1]\n",
      " [  0  -1]\n",
      " [ -1  52]\n",
      " [  6  -1]]\n",
      "[-321   11   11   22   11  -13   13   11 2212   22 -321]\n",
      "[-1 -1 -1  0 -1  1 -1 -1  1  0 -1]\n",
      "[211  11  11 211  11 211  13  11 211 211 211]\n",
      "[1, 4, 4, 1, 4, 1, 5, 4, 1, 1, 1]\n",
      "[1, 1, 4, 5, 4, 4, 1, 1, 4, 3, 3]\n"
     ]
    }
   ],
   "source": [
    "from postprocessing import map_pdgid_to_candid, map_charged_to_neutral, map_neutral_to_charged\n",
    "import numpy as np\n",
    "print(d[\"gp_to_objs\"])\n",
    "labels = [0, 211, 130, 22, 11, 13]\n",
    "temp = np.array([map_neutral_to_charged(map_pdgid_to_candid(p, c)) for p, c in zip(d[\"PDGIDs\"], d[\"gp_charges\"])])\n",
    "pdgids = np.array([labels.index(p) for p in temp])\n",
    "print(d[\"PDGIDs\"])\n",
    "print(d[\"gp_charges\"])\n",
    "print(temp)\n",
    "print(list(pdgids))\n",
    "print(list(d[\"ygen\"][d[\"ygen\"][:, 0] != 0.0][:,0].astype(int)))\n",
    "PDG:  [-321, 11, 11, 22, 11, -13, 13, 11, 2212, 22, -321]\n",
    "CHARGE:  [-1, -1, -1, 0, -1, 1, -1, -1, 1, 0, -1]\n",
    "[211, 11, 11, 22, 11, 211, 13, 11, 211, 22, 211]\n",
    "[1,4,4,3,4,1,5,4,1,3,1]"
   ]
  },
  {
   "cell_type": "code",
   "execution_count": 12,
   "metadata": {},
   "outputs": [
    {
     "data": {
      "text/plain": [
       "11"
      ]
     },
     "execution_count": 12,
     "metadata": {},
     "output_type": "execute_result"
    }
   ],
   "source": [
    "sum(d[\"ygen\"][:,0] != 0.)"
   ]
  },
  {
   "cell_type": "code",
   "execution_count": 6,
   "metadata": {},
   "outputs": [
    {
     "ename": "NameError",
     "evalue": "name 'pdgids' is not defined",
     "output_type": "error",
     "traceback": [
      "\u001b[0;31m---------------------------------------------------------------------------\u001b[0m",
      "\u001b[0;31mNameError\u001b[0m                                 Traceback (most recent call last)",
      "Cell \u001b[0;32mIn[6], line 9\u001b[0m\n\u001b[1;32m      6\u001b[0m plt\u001b[38;5;241m.\u001b[39mfigure(figsize\u001b[38;5;241m=\u001b[39m(\u001b[38;5;241m12\u001b[39m, \u001b[38;5;241m5\u001b[39m))\n\u001b[1;32m      8\u001b[0m \u001b[38;5;66;03m# plt.imshow(d[\"gp_to_hits\"], cmap='gray_r')\u001b[39;00m\n\u001b[0;32m----> 9\u001b[0m sns\u001b[38;5;241m.\u001b[39mheatmap(d[\u001b[38;5;124m\"\u001b[39m\u001b[38;5;124mgp_to_hits\u001b[39m\u001b[38;5;124m\"\u001b[39m], cmap\u001b[38;5;241m=\u001b[39m\u001b[38;5;124m\"\u001b[39m\u001b[38;5;124mcoolwarm\u001b[39m\u001b[38;5;124m\"\u001b[39m, cbar\u001b[38;5;241m=\u001b[39m\u001b[38;5;28;01mTrue\u001b[39;00m, xticklabels\u001b[38;5;241m=\u001b[39m\u001b[38;5;28;01mFalse\u001b[39;00m, yticklabels\u001b[38;5;241m=\u001b[39mpdgids)\n\u001b[1;32m     11\u001b[0m \u001b[38;5;66;03m# plt.colorbar()\u001b[39;00m\n\u001b[1;32m     12\u001b[0m plt\u001b[38;5;241m.\u001b[39mtitle(\u001b[38;5;124m'\u001b[39m\u001b[38;5;124mhit association matrix\u001b[39m\u001b[38;5;124m'\u001b[39m)\n",
      "\u001b[0;31mNameError\u001b[0m: name 'pdgids' is not defined"
     ]
    },
    {
     "data": {
      "text/plain": [
       "<Figure size 1200x500 with 0 Axes>"
      ]
     },
     "metadata": {},
     "output_type": "display_data"
    }
   ],
   "source": [
    "import matplotlib.pyplot as plt\n",
    "import numpy as np\n",
    "import seaborn as sns\n",
    "\n",
    "# print(list(d[\"ygen\"][d[\"ygen\"][:, 0] != 0.0][:,0].astype(int)))\n",
    "plt.figure(figsize=(12, 5))\n",
    "\n",
    "# plt.imshow(d[\"gp_to_hits\"], cmap='gray_r')\n",
    "sns.heatmap(d[\"gp_to_hits\"], cmap=\"coolwarm\", cbar=True, xticklabels=False, yticklabels=pdgids)\n",
    "\n",
    "# plt.colorbar()\n",
    "plt.title('hit association matrix')\n",
    "plt.ylabel('gen particle')\n",
    "plt.xlabel('associated hits')\n",
    "plt.show()\n",
    "\n",
    "plt.figure(figsize=(12, 5))\n",
    "\n",
    "# plt.imshow(d[\"gp_to_hits\"], cmap='gray_r')\n",
    "sns.heatmap(d[\"gp_to_tracks\"], cmap=\"gray_r\", cbar=True, xticklabels=True, yticklabels=pdgids, linewidths=1, linecolor=\"black\")\n",
    "\n",
    "# plt.colorbar()\n",
    "plt.title('hit association matrix')\n",
    "plt.ylabel('gen particle')\n",
    "plt.xlabel('associated tracks')\n",
    "plt.show()"
   ]
  },
  {
   "cell_type": "code",
   "execution_count": 36,
   "metadata": {},
   "outputs": [
    {
     "data": {
      "text/plain": [
       "(2599,)"
      ]
     },
     "execution_count": 36,
     "metadata": {},
     "output_type": "execute_result"
    }
   ],
   "source": [
    "[1,4,4,3,4,1,5,4,1,3,1]"
   ]
  },
  {
   "cell_type": "code",
   "execution_count": 7,
   "metadata": {},
   "outputs": [
    {
     "data": {
      "image/png": "[encoded data removed]",
      "text/plain": [
       "<Figure size 1200x500 with 2 Axes>"
      ]
     },
     "metadata": {},
     "output_type": "display_data"
    },
    {
     "data": {
      "image/png": "[encoded data removed]",
      "text/plain": [
       "<Figure size 1200x500 with 2 Axes>"
      ]
     },
     "metadata": {},
     "output_type": "display_data"
    }
   ],
   "source": [
    "import matplotlib.pyplot as plt\n",
    "import numpy as np\n",
    "import seaborn as sns\n",
    "\n",
    "d = next(gen)[1]\n",
    "plt.figure(figsize=(12, 5))\n",
    "\n",
    "temp = np.array([map_neutral_to_charged(map_pdgid_to_candid(p, c)) for p, c in zip(d[\"PDGIDs\"], d[\"gp_charges\"])])\n",
    "pdgids = np.array([labels.index(p) for p in temp])\n",
    "\n",
    "# plt.imshow(d[\"gp_to_hits\"], cmap='gray_r')\n",
    "sns.heatmap(d[\"gp_to_hits\"], cmap=\"coolwarm\", cbar=True, xticklabels=False, yticklabels=pdgids)\n",
    "\n",
    "# plt.colorbar()\n",
    "plt.title('hit association matrix')\n",
    "plt.ylabel('gen particle')\n",
    "plt.xlabel('associated hits')\n",
    "plt.show()\n",
    "\n",
    "plt.figure(figsize=(12, 5))\n",
    "\n",
    "# plt.imshow(d[\"gp_to_hits\"], cmap='gray_r')\n",
    "sns.heatmap(d[\"gp_to_tracks\"], cmap=\"gray_r\", cbar=True, xticklabels=True, yticklabels=pdgids, linewidths=1, linecolor=\"black\")\n",
    "\n",
    "# plt.colorbar()\n",
    "plt.title('hit association matrix')\n",
    "plt.ylabel('gen particle')\n",
    "plt.xlabel('associated tracks')\n",
    "plt.show()\n"
   ]
  },
  {
   "cell_type": "code",
   "execution_count": 9,
   "metadata": {},
   "outputs": [
    {
     "data": {
      "image/png": "[encoded data removed]",
      "text/plain": [
       "<Figure size 1200x500 with 2 Axes>"
      ]
     },
     "metadata": {},
     "output_type": "display_data"
    },
    {
     "data": {
      "image/png": "[encoded data removed]",
      "text/plain": [
       "<Figure size 1200x500 with 2 Axes>"
      ]
     },
     "metadata": {},
     "output_type": "display_data"
    }
   ],
   "source": [
    "import matplotlib.pyplot as plt\n",
    "import numpy as np\n",
    "import seaborn as sns\n",
    "\n",
    "d = next(gen)[1]\n",
    "pdgids = list(d[\"ygen\"][d[\"ygen\"][:, 0] != 0.0][:,0].astype(int))\n",
    "plt.figure(figsize=(12, 5))\n",
    "\n",
    "# plt.imshow(d[\"gp_to_hits\"], cmap='gray_r')\n",
    "sns.heatmap(d[\"gp_to_hits\"], cmap=\"coolwarm\", cbar=True, xticklabels=False, yticklabels=pdgids)\n",
    "\n",
    "# plt.colorbar()\n",
    "plt.title('hit association matrix')\n",
    "plt.ylabel('gen particle')\n",
    "plt.xlabel('associated hits')\n",
    "plt.show()\n",
    "\n",
    "plt.figure(figsize=(12, 5))\n",
    "\n",
    "# plt.imshow(d[\"gp_to_hits\"], cmap='gray_r')\n",
    "sns.heatmap(d[\"gp_to_tracks\"], cmap=\"gray_r\", cbar=True, xticklabels=True, yticklabels=pdgids, linewidths=1, linecolor=\"black\")\n",
    "\n",
    "# plt.colorbar()\n",
    "plt.title('hit association matrix')\n",
    "plt.ylabel('gen particle')\n",
    "plt.xlabel('associated tracks')\n",
    "plt.show()"
   ]
  },
  {
   "cell_type": "code",
   "execution_count": 85,
   "metadata": {},
   "outputs": [
    {
     "data": {
      "text/plain": [
       "(2146, 13)"
      ]
     },
     "execution_count": 85,
     "metadata": {},
     "output_type": "execute_result"
    }
   ],
   "source": [
    "d[\"ygen\"].shape"
   ]
  },
  {
   "cell_type": "code",
   "execution_count": 2,
   "metadata": {},
   "outputs": [],
   "source": [
    "def permute_association_matrix(old_mat, used_gps):\n",
    "    i = 0\n",
    "    temp_mat = list()\n",
    "    new_mat = np.zeros((old_mat.shape))\n",
    "    for used_gps_idx in range(len(used_gps)):\n",
    "        if used_gps[used_gps_idx] == 1:\n",
    "            new_mat[i] = old_mat[used_gps_idx]\n",
    "            i += 1\n",
    "        else:\n",
    "            temp_mat.append(old_mat[used_gps_idx])\n",
    "    new_mat[i:, :] = np.array(temp_mat)\n",
    "    return new_mat"
   ]
  },
  {
   "cell_type": "code",
   "execution_count": 6,
   "metadata": {},
   "outputs": [
    {
     "name": "stdout",
     "output_type": "stream",
     "text": [
      "[[0.74617784 0.82973324 0.08350649 0.93567336]\n",
      " [0.14830354 0.4660193  0.62695467 0.62335343]\n",
      " [0.80287579 0.47531031 0.22439306 0.30884274]]\n"
     ]
    },
    {
     "data": {
      "text/plain": [
       "array([[0.14830354, 0.4660193 , 0.62695467, 0.62335343],\n",
       "       [0.74617784, 0.82973324, 0.08350649, 0.93567336],\n",
       "       [0.80287579, 0.47531031, 0.22439306, 0.30884274]])"
      ]
     },
     "execution_count": 6,
     "metadata": {},
     "output_type": "execute_result"
    }
   ],
   "source": [
    "import numpy as np\n",
    "\n",
    "old_mat = np.random.rand(3,4)\n",
    "print(old_mat)\n",
    "used = [0,1,0]\n",
    "permute_association_matrix(old_mat, used)"
   ]
  },
  {
   "cell_type": "code",
   "execution_count": null,
   "metadata": {},
   "outputs": [],
   "source": []
  }
 ],
 "metadata": {
  "kernelspec": {
   "display_name": "base",
   "language": "python",
   "name": "python3"
  },
  "language_info": {
   "codemirror_mode": {
    "name": "ipython",
    "version": 3
   },
   "file_extension": ".py",
   "mimetype": "text/x-python",
   "name": "python",
   "nbconvert_exporter": "python",
   "pygments_lexer": "ipython3",
   "version": "3.11.5"
  }
 },
 "nbformat": 4,
 "nbformat_minor": 2
}
